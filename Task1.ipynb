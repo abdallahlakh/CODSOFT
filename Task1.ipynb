{
 "cells": [
  {
   "cell_type": "markdown",
   "id": "3f007af4-26bd-41d5-8e1b-d6fab08e3df7",
   "metadata": {},
   "source": [
    "# Task 1 "
   ]
  },
  {
   "cell_type": "markdown",
   "id": "b49eeae6-f471-4972-8e27-9e8abb40a9d3",
   "metadata": {},
   "source": [
    "# TITANIC SURVIVAL PREDICTION:"
   ]
  },
  {
   "cell_type": "code",
   "execution_count": 74,
   "id": "461c9e8e-218d-4a49-95da-2681048b72da",
   "metadata": {},
   "outputs": [],
   "source": [
    "import pandas as pd \n",
    "from sklearn.impute import SimpleImputer\n",
    "import numpy as np\n",
    "from sklearn.model_selection import train_test_split\n",
    "from sklearn.svm import SVC\n",
    "from sklearn.metrics import accuracy_score\n",
    "from sklearn.model_selection import GridSearchCV\n",
    "from sklearn.linear_model import LogisticRegression\n",
    "import seaborn as sns\n",
    "import matplotlib.pyplot as plt\n"
   ]
  },
  {
   "cell_type": "markdown",
   "id": "31971db3-c7c1-4a87-be56-097998bbd48a",
   "metadata": {},
   "source": [
    "reloading the Data"
   ]
  },
  {
   "cell_type": "code",
   "execution_count": 75,
   "id": "f4497c4b-ee7c-4f1e-9179-2c625e4ab8a6",
   "metadata": {},
   "outputs": [],
   "source": [
    "train_data=pd.read_csv('Titanic-Dataset.csv')"
   ]
  },
  {
   "cell_type": "code",
   "execution_count": 76,
   "id": "5b6e1d82-ba5c-4f17-9757-9b481c3b0f55",
   "metadata": {
    "scrolled": true
   },
   "outputs": [
    {
     "data": {
      "text/plain": [
       "PassengerId      0\n",
       "Survived         0\n",
       "Pclass           0\n",
       "Name             0\n",
       "Sex              0\n",
       "Age            177\n",
       "SibSp            0\n",
       "Parch            0\n",
       "Ticket           0\n",
       "Fare             0\n",
       "Cabin          687\n",
       "Embarked         2\n",
       "dtype: int64"
      ]
     },
     "execution_count": 76,
     "metadata": {},
     "output_type": "execute_result"
    }
   ],
   "source": [
    "train_data.isnull().sum()"
   ]
  },
  {
   "cell_type": "markdown",
   "id": "fc71cc8a-4d23-42ab-b337-142862174eb5",
   "metadata": {},
   "source": [
    "# Explore and clean the dataset"
   ]
  },
  {
   "cell_type": "markdown",
   "id": "a423a6ca-07d3-4cce-a27b-9e1a18b864e8",
   "metadata": {},
   "source": [
    "from here we see there is 687 missing value from 891 so we doesn't need this column cabin"
   ]
  },
  {
   "cell_type": "code",
   "execution_count": 77,
   "id": "da5d3b8f-ccc0-4704-95c3-f5f80f86a2ab",
   "metadata": {},
   "outputs": [],
   "source": [
    "train_data.drop('Cabin', axis=1, inplace=True)"
   ]
  },
  {
   "cell_type": "code",
   "execution_count": 78,
   "id": "07d78ca8-4c50-4813-a9d7-e9e8533b2ad4",
   "metadata": {},
   "outputs": [
    {
     "data": {
      "text/html": [
       "<div>\n",
       "<style scoped>\n",
       "    .dataframe tbody tr th:only-of-type {\n",
       "        vertical-align: middle;\n",
       "    }\n",
       "\n",
       "    .dataframe tbody tr th {\n",
       "        vertical-align: top;\n",
       "    }\n",
       "\n",
       "    .dataframe thead th {\n",
       "        text-align: right;\n",
       "    }\n",
       "</style>\n",
       "<table border=\"1\" class=\"dataframe\">\n",
       "  <thead>\n",
       "    <tr style=\"text-align: right;\">\n",
       "      <th></th>\n",
       "      <th>PassengerId</th>\n",
       "      <th>Survived</th>\n",
       "      <th>Pclass</th>\n",
       "      <th>Name</th>\n",
       "      <th>Sex</th>\n",
       "      <th>Age</th>\n",
       "      <th>SibSp</th>\n",
       "      <th>Parch</th>\n",
       "      <th>Ticket</th>\n",
       "      <th>Fare</th>\n",
       "      <th>Embarked</th>\n",
       "    </tr>\n",
       "  </thead>\n",
       "  <tbody>\n",
       "    <tr>\n",
       "      <th>0</th>\n",
       "      <td>1</td>\n",
       "      <td>0</td>\n",
       "      <td>3</td>\n",
       "      <td>Braund, Mr. Owen Harris</td>\n",
       "      <td>male</td>\n",
       "      <td>22.0</td>\n",
       "      <td>1</td>\n",
       "      <td>0</td>\n",
       "      <td>A/5 21171</td>\n",
       "      <td>7.2500</td>\n",
       "      <td>S</td>\n",
       "    </tr>\n",
       "    <tr>\n",
       "      <th>1</th>\n",
       "      <td>2</td>\n",
       "      <td>1</td>\n",
       "      <td>1</td>\n",
       "      <td>Cumings, Mrs. John Bradley (Florence Briggs Th...</td>\n",
       "      <td>female</td>\n",
       "      <td>38.0</td>\n",
       "      <td>1</td>\n",
       "      <td>0</td>\n",
       "      <td>PC 17599</td>\n",
       "      <td>71.2833</td>\n",
       "      <td>C</td>\n",
       "    </tr>\n",
       "    <tr>\n",
       "      <th>2</th>\n",
       "      <td>3</td>\n",
       "      <td>1</td>\n",
       "      <td>3</td>\n",
       "      <td>Heikkinen, Miss. Laina</td>\n",
       "      <td>female</td>\n",
       "      <td>26.0</td>\n",
       "      <td>0</td>\n",
       "      <td>0</td>\n",
       "      <td>STON/O2. 3101282</td>\n",
       "      <td>7.9250</td>\n",
       "      <td>S</td>\n",
       "    </tr>\n",
       "    <tr>\n",
       "      <th>3</th>\n",
       "      <td>4</td>\n",
       "      <td>1</td>\n",
       "      <td>1</td>\n",
       "      <td>Futrelle, Mrs. Jacques Heath (Lily May Peel)</td>\n",
       "      <td>female</td>\n",
       "      <td>35.0</td>\n",
       "      <td>1</td>\n",
       "      <td>0</td>\n",
       "      <td>113803</td>\n",
       "      <td>53.1000</td>\n",
       "      <td>S</td>\n",
       "    </tr>\n",
       "    <tr>\n",
       "      <th>4</th>\n",
       "      <td>5</td>\n",
       "      <td>0</td>\n",
       "      <td>3</td>\n",
       "      <td>Allen, Mr. William Henry</td>\n",
       "      <td>male</td>\n",
       "      <td>35.0</td>\n",
       "      <td>0</td>\n",
       "      <td>0</td>\n",
       "      <td>373450</td>\n",
       "      <td>8.0500</td>\n",
       "      <td>S</td>\n",
       "    </tr>\n",
       "    <tr>\n",
       "      <th>...</th>\n",
       "      <td>...</td>\n",
       "      <td>...</td>\n",
       "      <td>...</td>\n",
       "      <td>...</td>\n",
       "      <td>...</td>\n",
       "      <td>...</td>\n",
       "      <td>...</td>\n",
       "      <td>...</td>\n",
       "      <td>...</td>\n",
       "      <td>...</td>\n",
       "      <td>...</td>\n",
       "    </tr>\n",
       "    <tr>\n",
       "      <th>886</th>\n",
       "      <td>887</td>\n",
       "      <td>0</td>\n",
       "      <td>2</td>\n",
       "      <td>Montvila, Rev. Juozas</td>\n",
       "      <td>male</td>\n",
       "      <td>27.0</td>\n",
       "      <td>0</td>\n",
       "      <td>0</td>\n",
       "      <td>211536</td>\n",
       "      <td>13.0000</td>\n",
       "      <td>S</td>\n",
       "    </tr>\n",
       "    <tr>\n",
       "      <th>887</th>\n",
       "      <td>888</td>\n",
       "      <td>1</td>\n",
       "      <td>1</td>\n",
       "      <td>Graham, Miss. Margaret Edith</td>\n",
       "      <td>female</td>\n",
       "      <td>19.0</td>\n",
       "      <td>0</td>\n",
       "      <td>0</td>\n",
       "      <td>112053</td>\n",
       "      <td>30.0000</td>\n",
       "      <td>S</td>\n",
       "    </tr>\n",
       "    <tr>\n",
       "      <th>888</th>\n",
       "      <td>889</td>\n",
       "      <td>0</td>\n",
       "      <td>3</td>\n",
       "      <td>Johnston, Miss. Catherine Helen \"Carrie\"</td>\n",
       "      <td>female</td>\n",
       "      <td>NaN</td>\n",
       "      <td>1</td>\n",
       "      <td>2</td>\n",
       "      <td>W./C. 6607</td>\n",
       "      <td>23.4500</td>\n",
       "      <td>S</td>\n",
       "    </tr>\n",
       "    <tr>\n",
       "      <th>889</th>\n",
       "      <td>890</td>\n",
       "      <td>1</td>\n",
       "      <td>1</td>\n",
       "      <td>Behr, Mr. Karl Howell</td>\n",
       "      <td>male</td>\n",
       "      <td>26.0</td>\n",
       "      <td>0</td>\n",
       "      <td>0</td>\n",
       "      <td>111369</td>\n",
       "      <td>30.0000</td>\n",
       "      <td>C</td>\n",
       "    </tr>\n",
       "    <tr>\n",
       "      <th>890</th>\n",
       "      <td>891</td>\n",
       "      <td>0</td>\n",
       "      <td>3</td>\n",
       "      <td>Dooley, Mr. Patrick</td>\n",
       "      <td>male</td>\n",
       "      <td>32.0</td>\n",
       "      <td>0</td>\n",
       "      <td>0</td>\n",
       "      <td>370376</td>\n",
       "      <td>7.7500</td>\n",
       "      <td>Q</td>\n",
       "    </tr>\n",
       "  </tbody>\n",
       "</table>\n",
       "<p>891 rows × 11 columns</p>\n",
       "</div>"
      ],
      "text/plain": [
       "     PassengerId  Survived  Pclass  \\\n",
       "0              1         0       3   \n",
       "1              2         1       1   \n",
       "2              3         1       3   \n",
       "3              4         1       1   \n",
       "4              5         0       3   \n",
       "..           ...       ...     ...   \n",
       "886          887         0       2   \n",
       "887          888         1       1   \n",
       "888          889         0       3   \n",
       "889          890         1       1   \n",
       "890          891         0       3   \n",
       "\n",
       "                                                  Name     Sex   Age  SibSp  \\\n",
       "0                              Braund, Mr. Owen Harris    male  22.0      1   \n",
       "1    Cumings, Mrs. John Bradley (Florence Briggs Th...  female  38.0      1   \n",
       "2                               Heikkinen, Miss. Laina  female  26.0      0   \n",
       "3         Futrelle, Mrs. Jacques Heath (Lily May Peel)  female  35.0      1   \n",
       "4                             Allen, Mr. William Henry    male  35.0      0   \n",
       "..                                                 ...     ...   ...    ...   \n",
       "886                              Montvila, Rev. Juozas    male  27.0      0   \n",
       "887                       Graham, Miss. Margaret Edith  female  19.0      0   \n",
       "888           Johnston, Miss. Catherine Helen \"Carrie\"  female   NaN      1   \n",
       "889                              Behr, Mr. Karl Howell    male  26.0      0   \n",
       "890                                Dooley, Mr. Patrick    male  32.0      0   \n",
       "\n",
       "     Parch            Ticket     Fare Embarked  \n",
       "0        0         A/5 21171   7.2500        S  \n",
       "1        0          PC 17599  71.2833        C  \n",
       "2        0  STON/O2. 3101282   7.9250        S  \n",
       "3        0            113803  53.1000        S  \n",
       "4        0            373450   8.0500        S  \n",
       "..     ...               ...      ...      ...  \n",
       "886      0            211536  13.0000        S  \n",
       "887      0            112053  30.0000        S  \n",
       "888      2        W./C. 6607  23.4500        S  \n",
       "889      0            111369  30.0000        C  \n",
       "890      0            370376   7.7500        Q  \n",
       "\n",
       "[891 rows x 11 columns]"
      ]
     },
     "execution_count": 78,
     "metadata": {},
     "output_type": "execute_result"
    }
   ],
   "source": [
    "train_data"
   ]
  },
  {
   "cell_type": "code",
   "execution_count": 79,
   "id": "430e72c2-24fb-40f3-bbb9-97694fa0c851",
   "metadata": {},
   "outputs": [],
   "source": [
    "total=train_data.shape[0]\n",
    "survived_count = train_data[train_data['Survived'] == 1].shape[0]\n",
    "\n",
    "non_survived_count = train_data[train_data['Survived'] == 0].shape[0]"
   ]
  },
  {
   "cell_type": "code",
   "execution_count": 80,
   "id": "e1c74112-c199-451c-951f-8480cc82468d",
   "metadata": {},
   "outputs": [
    {
     "name": "stdout",
     "output_type": "stream",
     "text": [
      "38.38383838383838 %\n"
     ]
    }
   ],
   "source": [
    "print(f\"{survived_count/total* 100} %\")"
   ]
  },
  {
   "cell_type": "markdown",
   "id": "1b74aac1-e414-42b8-8f51-edee4a510d37",
   "metadata": {},
   "source": [
    "# Dealing with Embarked and Pclass"
   ]
  },
  {
   "cell_type": "code",
   "execution_count": 81,
   "id": "51a4d0fe-1f9b-4c96-ae6d-978faf6ef386",
   "metadata": {},
   "outputs": [
    {
     "data": {
      "text/plain": [
       "0        male\n",
       "1      female\n",
       "2      female\n",
       "3      female\n",
       "4        male\n",
       "        ...  \n",
       "886      male\n",
       "887    female\n",
       "888    female\n",
       "889      male\n",
       "890      male\n",
       "Name: Sex, Length: 891, dtype: object"
      ]
     },
     "execution_count": 81,
     "metadata": {},
     "output_type": "execute_result"
    }
   ],
   "source": [
    "train_data['Sex']"
   ]
  },
  {
   "cell_type": "markdown",
   "id": "4e543afa-66c2-4950-b714-18f89abc4b65",
   "metadata": {},
   "source": [
    "we see that females survive by 80% and males by 20%"
   ]
  },
  {
   "cell_type": "code",
   "execution_count": 83,
   "id": "bbd1b008-ad50-46f3-aa1f-3475039fa04d",
   "metadata": {
    "scrolled": true
   },
   "outputs": [
    {
     "data": {
      "image/png": "[encoded data removed]",
      "text/plain": [
       "<Figure size 800x600 with 1 Axes>"
      ]
     },
     "metadata": {},
     "output_type": "display_data"
    }
   ],
   "source": [
    "\n",
    "# Calculate survival rate by sex\n",
    "survival_rate_by_sex = train_data.groupby('Sex')['Survived'].mean()\n",
    "\n",
    "# Plot\n",
    "plt.figure(figsize=(8, 6))\n",
    "sns.barplot(x=survival_rate_by_sex.index, y=survival_rate_by_sex.values)\n",
    "plt.title('Survival Rate by Gender')\n",
    "plt.ylabel('Survival Rate')\n",
    "plt.xlabel('Gender')\n",
    "plt.show()"
   ]
  },
  {
   "cell_type": "code",
   "execution_count": 84,
   "id": "ea849a01-d291-4e28-b6a9-1c5c7ddd51f1",
   "metadata": {},
   "outputs": [],
   "source": [
    "# Step 1: Create an imputer instance with a strategy of 'mean' to replace missing values\n",
    "imputer = SimpleImputer(missing_values=np.nan, strategy='mean')\n",
    "\n",
    "# Step 2: Fit the imputer to the 'Age' column and transform it\n",
    "train_data['Age'] = imputer.fit_transform(train_data[['Age']])\n",
    "\n",
    "# Now, the 'Age' column in 'train_data' has missing values filled with the mean age"
   ]
  },
  {
   "cell_type": "code",
   "execution_count": 85,
   "id": "ef4a8489-c741-4ad3-9eff-1553472624a0",
   "metadata": {},
   "outputs": [
    {
     "data": {
      "text/plain": [
       "0"
      ]
     },
     "execution_count": 85,
     "metadata": {},
     "output_type": "execute_result"
    }
   ],
   "source": [
    "train_data['Age'].isnull().sum()"
   ]
  },
  {
   "cell_type": "code",
   "execution_count": 86,
   "id": "204e506a-e5e7-48d7-8992-297ae7744bef",
   "metadata": {
    "scrolled": true
   },
   "outputs": [
    {
     "data": {
      "image/png": "[encoded data removed]",
      "text/plain": [
       "<Figure size 1200x600 with 1 Axes>"
      ]
     },
     "metadata": {},
     "output_type": "display_data"
    }
   ],
   "source": [
    "\n",
    "# Assuming 'train_data' is your DataFrame and it contains 'Age' and 'Survived' columns\n",
    "\n",
    "# Separate ages by survival status\n",
    "ages_survived = train_data[train_data['Survived'] == 1]['Age']\n",
    "ages_not_survived = train_data[train_data['Survived'] == 0]['Age']\n",
    "\n",
    "# Plot\n",
    "plt.figure(figsize=(12, 6))\n",
    "sns.histplot(ages_survived, color=\"skyblue\", label=\"Survived\", kde=True, bins=30, alpha=0.7)\n",
    "sns.histplot(ages_not_survived, color=\"red\", label=\"Not Survived\", kde=True, bins=30, alpha=0.7)\n",
    "\n",
    "# Add percentage text\n",
    "total_survived = len(ages_survived)\n",
    "total_not_survived = len(ages_not_survived)\n",
    "plt.text(10, 50, f\"Survived: {total_survived} ({total_survived / (total_survived + total_not_survived) * 100:.2f}%)\", fontsize=12)\n",
    "plt.text(10, 45, f\"Not Survived: {total_not_survived} ({total_not_survived / (total_survived + total_not_survived) * 100:.2f}%)\", fontsize=12)\n",
    "\n",
    "plt.title('Age Distribution by Survival Status')\n",
    "plt.xlabel('Age')\n",
    "plt.ylabel('Count')\n",
    "plt.legend()\n",
    "plt.show()\n"
   ]
  },
  {
   "cell_type": "markdown",
   "id": "3df61be0-54d1-4fb3-9f10-fea35620f58b",
   "metadata": {},
   "source": [
    "we see that of unsurvived personnes start increase in second order polynomial untill the age of 30 where stop in max then he start decreasing after 30 but in expential order and the survived ones they start increase but in speed less then the unsurvived and decrease in the same way"
   ]
  },
  {
   "cell_type": "code",
   "execution_count": 87,
   "id": "6f2009bf-2dec-4c00-9834-6b2b6a091d87",
   "metadata": {},
   "outputs": [],
   "source": [
    "# Define the transformation function\n",
    "def transform_age_based_on_survival(age, survived):\n",
    "    if age <= 30:\n",
    "        return train_data['Age'].count() ** 2 if survived == 0 else age ** 1.5\n",
    "    else:\n",
    "        return np.exp(-age)\n",
    "\n",
    "# Apply the function to create a new feature\n",
    "train_data['index_Age'] = train_data.apply(lambda row: transform_age_based_on_survival(row['Age'], row['Survived']), axis=1)\n"
   ]
  },
  {
   "cell_type": "code",
   "execution_count": 88,
   "id": "6dcc034b-c126-4a1f-b270-381c9fd8664e",
   "metadata": {},
   "outputs": [],
   "source": [
    "# Assuming 'train_data' is your DataFrame\n",
    "\n",
    "# Step 1: Create a mapping from 'Sex' to survival rates\n",
    "gender_to_survival_rate = {'female': 0.8, 'male': 0.2}\n",
    "\n",
    "# Step 2: Apply the mapping to create a new feature\n",
    "train_data['Gender_Survival_index'] = train_data['Sex'].map(gender_to_survival_rate)\n",
    "\n",
    "# Now 'train_data' has a new column 'Gender_Survival_Rate' with the survival rates based on gender"
   ]
  },
  {
   "cell_type": "code",
   "execution_count": 89,
   "id": "d6dfdc33-5d3b-4bc6-96b2-5107fcdf7270",
   "metadata": {},
   "outputs": [
    {
     "data": {
      "text/plain": [
       "array(['S', 'C', 'Q', nan], dtype=object)"
      ]
     },
     "execution_count": 89,
     "metadata": {},
     "output_type": "execute_result"
    }
   ],
   "source": [
    "train_data['Embarked'].unique()"
   ]
  },
  {
   "cell_type": "code",
   "execution_count": 90,
   "id": "62d7987f-c061-4616-904f-7aa1cd4b0892",
   "metadata": {},
   "outputs": [
    {
     "data": {
      "text/plain": [
       "array([3, 1, 2], dtype=int64)"
      ]
     },
     "execution_count": 90,
     "metadata": {},
     "output_type": "execute_result"
    }
   ],
   "source": [
    "train_data['Pclass'].unique()"
   ]
  },
  {
   "cell_type": "code",
   "execution_count": 91,
   "id": "ce9a0fb2-836a-4d0e-bf2d-2dd802362ec6",
   "metadata": {},
   "outputs": [],
   "source": [
    "# Calculate survived counts by embarkation point and passenger class\n",
    "C_1 = train_data[(train_data['Survived'] == 1) & (train_data['Embarked'] == 'C') & (train_data['Pclass'] == 1)].shape[0]\n",
    "C_2 = train_data[(train_data['Survived'] == 1) & (train_data['Embarked'] == 'C') & (train_data['Pclass'] == 2)].shape[0]\n",
    "C_3 = train_data[(train_data['Survived'] == 1) & (train_data['Embarked'] == 'C') & (train_data['Pclass'] == 3)].shape[0]\n",
    "\n",
    "S_1 = train_data[(train_data['Survived'] == 1) & (train_data['Embarked'] == 'S') & (train_data['Pclass'] == 1)].shape[0]\n",
    "S_2 = train_data[(train_data['Survived'] == 1) & (train_data['Embarked'] == 'S') & (train_data['Pclass'] == 2)].shape[0]\n",
    "S_3 = train_data[(train_data['Survived'] == 1) & (train_data['Embarked'] == 'S') & (train_data['Pclass'] == 3)].shape[0]\n",
    "\n",
    "Q_1 = train_data[(train_data['Survived'] == 1) & (train_data['Embarked'] == 'Q') & (train_data['Pclass'] == 1)].shape[0]\n",
    "Q_2 = train_data[(train_data['Survived'] == 1) & (train_data['Embarked'] == 'Q') & (train_data['Pclass'] == 2)].shape[0]\n",
    "Q_3 = train_data[(train_data['Survived'] == 1) & (train_data['Embarked'] == 'Q') & (train_data['Pclass'] == 3)].shape[0]\n",
    "\n",
    "# Calculate non-survived counts by embarkation point and passenger class\n",
    "not_C_1 = train_data[(train_data['Survived'] == 0) & (train_data['Embarked'] == 'C') & (train_data['Pclass'] == 1)].shape[0]\n",
    "not_C_2 = train_data[(train_data['Survived'] == 0) & (train_data['Embarked'] == 'C') & (train_data['Pclass'] == 2)].shape[0]\n",
    "not_C_3 = train_data[(train_data['Survived'] == 0) & (train_data['Embarked'] == 'C') & (train_data['Pclass'] == 3)].shape[0]\n",
    "\n",
    "not_S_1 = train_data[(train_data['Survived'] == 0) & (train_data['Embarked'] == 'S') & (train_data['Pclass'] == 1)].shape[0]\n",
    "not_S_2 = train_data[(train_data['Survived'] == 0) & (train_data['Embarked'] == 'S') & (train_data['Pclass'] == 2)].shape[0]\n",
    "not_S_3 = train_data[(train_data['Survived'] == 0) & (train_data['Embarked'] == 'S') & (train_data['Pclass'] == 3)].shape[0]\n",
    "\n",
    "not_Q_1 = train_data[(train_data['Survived'] == 0) & (train_data['Embarked'] == 'Q') & (train_data['Pclass'] == 1)].shape[0]\n",
    "not_Q_2 = train_data[(train_data['Survived'] == 0) & (train_data['Embarked'] == 'Q') & (train_data['Pclass'] == 2)].shape[0]\n",
    "not_Q_3 = train_data[(train_data['Survived'] == 0) & (train_data['Embarked'] == 'Q') & (train_data['Pclass'] == 3)].shape[0]"
   ]
  },
  {
   "cell_type": "code",
   "execution_count": 92,
   "id": "5ef17fed-1563-4ce9-8253-47528c020d56",
   "metadata": {
    "scrolled": true
   },
   "outputs": [
    {
     "name": "stdout",
     "output_type": "stream",
     "text": [
      "Survived from Cherbourg (France):\n",
      "Class 1: 59 (17.25%)\n",
      "Class 2: 9 (2.63%)\n",
      "Class 3: 25 (7.31%)\n",
      "\n",
      "Survived from Southampton (United Kingdom):\n",
      "Class 1: 74 (21.64%)\n",
      "Class 2: 76 (22.22%)\n",
      "Class 3: 67 (19.59%)\n",
      "\n",
      "Survived from Queenstown (now known as Cobh, Ireland):\n",
      "Class 1: 1 (0.29%)\n",
      "Class 2: 2 (0.58%)\n",
      "Class 3: 27 (7.89%)\n",
      "\n",
      "Unsurvived from Cherbourg (France):\n",
      "Class 1: 26 (4.74%)\n",
      "Class 2: 8 (1.46%)\n",
      "Class 3: 41 (7.47%)\n",
      "\n",
      "Unsurvived from Southampton (United Kingdom):\n",
      "Class 1: 53 (9.65%)\n",
      "Class 2: 88 (16.03%)\n",
      "Class 3: 286 (52.09%)\n",
      "\n",
      "Unsurvived from Queenstown (now known as Cobh, Ireland):\n",
      "Class 1: 1 (0.18%)\n",
      "Class 2: 1 (0.18%)\n",
      "Class 3: 45 (8.20%)\n"
     ]
    }
   ],
   "source": [
    "print(f\"Survived from Cherbourg (France):\")\n",
    "print(f\"Class 1: {C_1} ({C_1 / survived_count * 100:.2f}%)\")\n",
    "print(f\"Class 2: {C_2} ({C_2 / survived_count * 100:.2f}%)\")\n",
    "print(f\"Class 3: {C_3} ({C_3 / survived_count * 100:.2f}%)\")\n",
    "print()\n",
    "\n",
    "print(f\"Survived from Southampton (United Kingdom):\")\n",
    "print(f\"Class 1: {S_1} ({S_1 / survived_count * 100:.2f}%)\")\n",
    "print(f\"Class 2: {S_2} ({S_2 / survived_count * 100:.2f}%)\")\n",
    "print(f\"Class 3: {S_3} ({S_3 / survived_count * 100:.2f}%)\")\n",
    "print()\n",
    "\n",
    "print(f\"Survived from Queenstown (now known as Cobh, Ireland):\")\n",
    "print(f\"Class 1: {Q_1} ({Q_1 / survived_count * 100:.2f}%)\")\n",
    "print(f\"Class 2: {Q_2} ({Q_2 / survived_count * 100:.2f}%)\")\n",
    "print(f\"Class 3: {Q_3} ({Q_3 / survived_count * 100:.2f}%)\")\n",
    "print()\n",
    "\n",
    "print(f\"Unsurvived from Cherbourg (France):\")\n",
    "print(f\"Class 1: {not_C_1} ({not_C_1 / non_survived_count * 100:.2f}%)\")\n",
    "print(f\"Class 2: {not_C_2} ({not_C_2 / non_survived_count * 100:.2f}%)\")\n",
    "print(f\"Class 3: {not_C_3} ({not_C_3 / non_survived_count * 100:.2f}%)\")\n",
    "print()\n",
    "\n",
    "print(f\"Unsurvived from Southampton (United Kingdom):\")\n",
    "print(f\"Class 1: {not_S_1} ({not_S_1 / non_survived_count * 100:.2f}%)\")\n",
    "print(f\"Class 2: {not_S_2} ({not_S_2 / non_survived_count * 100:.2f}%)\")\n",
    "print(f\"Class 3: {not_S_3} ({not_S_3 / non_survived_count * 100:.2f}%)\")\n",
    "print()\n",
    "\n",
    "print(f\"Unsurvived from Queenstown (now known as Cobh, Ireland):\")\n",
    "print(f\"Class 1: {not_Q_1} ({not_Q_1 / non_survived_count * 100:.2f}%)\")\n",
    "print(f\"Class 2: {not_Q_2} ({not_Q_2 / non_survived_count * 100:.2f}%)\")\n",
    "print(f\"Class 3: {not_Q_3} ({not_Q_3 / non_survived_count * 100:.2f}%)\")"
   ]
  },
  {
   "cell_type": "code",
   "execution_count": 93,
   "id": "d6b82267-506a-440c-9432-172fa7a01e92",
   "metadata": {},
   "outputs": [
    {
     "data": {
      "image/png": "[encoded data removed]",
      "text/plain": [
       "<Figure size 1400x800 with 1 Axes>"
      ]
     },
     "metadata": {},
     "output_type": "display_data"
    }
   ],
   "source": [
    "# Data setup\n",
    "labels = ['Cherbourg Class 1', 'Cherbourg Class 2', 'Cherbourg Class 3', \n",
    "          'Southampton Class 1', 'Southampton Class 2', 'Southampton Class 3', \n",
    "          'Queenstown Class 1', 'Queenstown Class 2', 'Queenstown Class 3']\n",
    "survived_percentages = [C_1 / survived_count * 100, C_2 / survived_count * 100, C_3 / survived_count * 100, \n",
    "                        S_1 / survived_count * 100, S_2 / survived_count * 100, S_3 / survived_count * 100, \n",
    "                        Q_1 / survived_count * 100, Q_2 / survived_count * 100, Q_3 / survived_count * 100]\n",
    "unsurvived_percentages = [not_C_1 / non_survived_count * 100, not_C_2 / non_survived_count * 100, not_C_3 / non_survived_count * 100, \n",
    "                          not_S_1 / non_survived_count * 100, not_S_2 / non_survived_count * 100, not_S_3 / non_survived_count * 100, \n",
    "                          not_Q_1 / non_survived_count * 100, not_Q_2 / non_survived_count * 100, not_Q_3 / non_survived_count * 100]\n",
    "\n",
    "x = np.arange(len(labels))  # the label locations\n",
    "width = 0.35  # the width of the bars\n",
    "\n",
    "fig, ax = plt.subplots(figsize=(14, 8))\n",
    "\n",
    "# Plotting\n",
    "bars1 = ax.bar(x - width/2, survived_percentages, width, label='Survived')\n",
    "bars2 = ax.bar(x + width/2, unsurvived_percentages, width, label='Unsurvived')\n",
    "\n",
    "# Adding percentages on top of the bars\n",
    "def add_labels(bars):\n",
    "    for bar in bars:\n",
    "        height = bar.get_height()\n",
    "        ax.annotate(f'{height:.2f}%',\n",
    "                    xy=(bar.get_x() + bar.get_width() / 2, height),\n",
    "                    xytext=(0, 3),  # 3 points vertical offset\n",
    "                    textcoords=\"offset points\",\n",
    "                    ha='center', va='bottom')\n",
    "\n",
    "add_labels(bars1)\n",
    "add_labels(bars2)\n",
    "\n",
    "# Setting labels, title, and custom x-axis tick labels\n",
    "ax.set_ylabel('Percentages')\n",
    "ax.set_title('Survival and Non-Survival Percentages by Class and Embarkation Point')\n",
    "ax.set_xticks(x)\n",
    "ax.set_xticklabels(labels, rotation=45, ha=\"right\")\n",
    "ax.legend()\n",
    "\n",
    "# Display the plot\n",
    "plt.tight_layout()\n",
    "plt.show()"
   ]
  },
  {
   "cell_type": "markdown",
   "id": "15502410-6ace-4211-bff9-1b1c2c3613aa",
   "metadata": {},
   "source": [
    "from here we can see : for class 1 there is a possibilte to survive about 60 to 70 % and for class 2 a possiblite to survive 50% and for class 3 about 25% to 30% for people comming  from Cherbourg (France) the majority are class 1 and then comes with a little diffrence class 3 then class 2 and for people comming from Southampton (United Kingdom) they are the majority of passenger and class 3 is it major class with big diffrence with class 2 and class 1 and for class 1 and class 2 are close for people comming from Queenstown (now known as Cobh, Ireland they are the lowest passengers in number compare to Cherbourg (France) and Southampton (United Kingdom) and the most majority about 90 % are class 3 "
   ]
  },
  {
   "cell_type": "markdown",
   "id": "96ebde0f-6585-4e76-a2d9-d190a640ed1f",
   "metadata": {},
   "source": [
    "according to this description that i've see it i've impelment  a new feature"
   ]
  },
  {
   "cell_type": "code",
   "execution_count": 94,
   "id": "c44c4535-9993-42a6-b7d8-7d50f962d1de",
   "metadata": {},
   "outputs": [],
   "source": [
    "def calculate_index_regarding_class_and_Embarked(pclass, embarked):\n",
    "    if embarked == 'C':\n",
    "        return 0.68 if pclass == 1 else 0.38 if pclass == 3 else 0.56\n",
    "    elif embarked == 'S':\n",
    "        return 0.56 if pclass == 1 else 0.47 if pclass == 2 else 0.20\n",
    "    elif embarked == 'Q':\n",
    "        return 0.34 if pclass == 3 else 0.6  # Assuming a default for non-class 3 passengers from Q\n",
    "    else:\n",
    "        return 0.4  # Default probability if embarkation point is unknown or not listed\n",
    "\n",
    "# Apply the function to each row in the DataFrame to create the new feature\n",
    "train_data['index_regarding_class_and_Embarked'] = train_data.apply(lambda row: calculate_index_regarding_class_and_Embarked(row['Pclass'], row['Embarked']), axis=1)"
   ]
  },
  {
   "cell_type": "code",
   "execution_count": 95,
   "id": "3af2e3a6-9cdf-4df6-aa59-1def70dc0bfa",
   "metadata": {},
   "outputs": [
    {
     "data": {
      "text/plain": [
       "Index(['PassengerId', 'Survived', 'Pclass', 'Name', 'Sex', 'Age', 'SibSp',\n",
       "       'Parch', 'Ticket', 'Fare', 'Embarked', 'index_Age',\n",
       "       'Gender_Survival_index', 'index_regarding_class_and_Embarked'],\n",
       "      dtype='object')"
      ]
     },
     "execution_count": 95,
     "metadata": {},
     "output_type": "execute_result"
    }
   ],
   "source": [
    "train_data.columns"
   ]
  },
  {
   "cell_type": "code",
   "execution_count": 96,
   "id": "11528684-5c97-4e64-b819-9d8c5029da1c",
   "metadata": {},
   "outputs": [
    {
     "data": {
      "text/html": [
       "<div>\n",
       "<style scoped>\n",
       "    .dataframe tbody tr th:only-of-type {\n",
       "        vertical-align: middle;\n",
       "    }\n",
       "\n",
       "    .dataframe tbody tr th {\n",
       "        vertical-align: top;\n",
       "    }\n",
       "\n",
       "    .dataframe thead th {\n",
       "        text-align: right;\n",
       "    }\n",
       "</style>\n",
       "<table border=\"1\" class=\"dataframe\">\n",
       "  <thead>\n",
       "    <tr style=\"text-align: right;\">\n",
       "      <th></th>\n",
       "      <th>PassengerId</th>\n",
       "      <th>Survived</th>\n",
       "      <th>Pclass</th>\n",
       "      <th>Name</th>\n",
       "      <th>Sex</th>\n",
       "      <th>Age</th>\n",
       "      <th>SibSp</th>\n",
       "      <th>Parch</th>\n",
       "      <th>Ticket</th>\n",
       "      <th>Fare</th>\n",
       "      <th>Embarked</th>\n",
       "      <th>index_Age</th>\n",
       "      <th>Gender_Survival_index</th>\n",
       "      <th>index_regarding_class_and_Embarked</th>\n",
       "    </tr>\n",
       "  </thead>\n",
       "  <tbody>\n",
       "    <tr>\n",
       "      <th>0</th>\n",
       "      <td>1</td>\n",
       "      <td>0</td>\n",
       "      <td>3</td>\n",
       "      <td>Braund, Mr. Owen Harris</td>\n",
       "      <td>male</td>\n",
       "      <td>22.0</td>\n",
       "      <td>1</td>\n",
       "      <td>0</td>\n",
       "      <td>A/5 21171</td>\n",
       "      <td>7.2500</td>\n",
       "      <td>S</td>\n",
       "      <td>7.938810e+05</td>\n",
       "      <td>0.2</td>\n",
       "      <td>0.20</td>\n",
       "    </tr>\n",
       "    <tr>\n",
       "      <th>1</th>\n",
       "      <td>2</td>\n",
       "      <td>1</td>\n",
       "      <td>1</td>\n",
       "      <td>Cumings, Mrs. John Bradley (Florence Briggs Th...</td>\n",
       "      <td>female</td>\n",
       "      <td>38.0</td>\n",
       "      <td>1</td>\n",
       "      <td>0</td>\n",
       "      <td>PC 17599</td>\n",
       "      <td>71.2833</td>\n",
       "      <td>C</td>\n",
       "      <td>3.139133e-17</td>\n",
       "      <td>0.8</td>\n",
       "      <td>0.68</td>\n",
       "    </tr>\n",
       "    <tr>\n",
       "      <th>2</th>\n",
       "      <td>3</td>\n",
       "      <td>1</td>\n",
       "      <td>3</td>\n",
       "      <td>Heikkinen, Miss. Laina</td>\n",
       "      <td>female</td>\n",
       "      <td>26.0</td>\n",
       "      <td>0</td>\n",
       "      <td>0</td>\n",
       "      <td>STON/O2. 3101282</td>\n",
       "      <td>7.9250</td>\n",
       "      <td>S</td>\n",
       "      <td>1.325745e+02</td>\n",
       "      <td>0.8</td>\n",
       "      <td>0.20</td>\n",
       "    </tr>\n",
       "    <tr>\n",
       "      <th>3</th>\n",
       "      <td>4</td>\n",
       "      <td>1</td>\n",
       "      <td>1</td>\n",
       "      <td>Futrelle, Mrs. Jacques Heath (Lily May Peel)</td>\n",
       "      <td>female</td>\n",
       "      <td>35.0</td>\n",
       "      <td>1</td>\n",
       "      <td>0</td>\n",
       "      <td>113803</td>\n",
       "      <td>53.1000</td>\n",
       "      <td>S</td>\n",
       "      <td>6.305117e-16</td>\n",
       "      <td>0.8</td>\n",
       "      <td>0.56</td>\n",
       "    </tr>\n",
       "    <tr>\n",
       "      <th>4</th>\n",
       "      <td>5</td>\n",
       "      <td>0</td>\n",
       "      <td>3</td>\n",
       "      <td>Allen, Mr. William Henry</td>\n",
       "      <td>male</td>\n",
       "      <td>35.0</td>\n",
       "      <td>0</td>\n",
       "      <td>0</td>\n",
       "      <td>373450</td>\n",
       "      <td>8.0500</td>\n",
       "      <td>S</td>\n",
       "      <td>6.305117e-16</td>\n",
       "      <td>0.2</td>\n",
       "      <td>0.20</td>\n",
       "    </tr>\n",
       "  </tbody>\n",
       "</table>\n",
       "</div>"
      ],
      "text/plain": [
       "   PassengerId  Survived  Pclass  \\\n",
       "0            1         0       3   \n",
       "1            2         1       1   \n",
       "2            3         1       3   \n",
       "3            4         1       1   \n",
       "4            5         0       3   \n",
       "\n",
       "                                                Name     Sex   Age  SibSp  \\\n",
       "0                            Braund, Mr. Owen Harris    male  22.0      1   \n",
       "1  Cumings, Mrs. John Bradley (Florence Briggs Th...  female  38.0      1   \n",
       "2                             Heikkinen, Miss. Laina  female  26.0      0   \n",
       "3       Futrelle, Mrs. Jacques Heath (Lily May Peel)  female  35.0      1   \n",
       "4                           Allen, Mr. William Henry    male  35.0      0   \n",
       "\n",
       "   Parch            Ticket     Fare Embarked     index_Age  \\\n",
       "0      0         A/5 21171   7.2500        S  7.938810e+05   \n",
       "1      0          PC 17599  71.2833        C  3.139133e-17   \n",
       "2      0  STON/O2. 3101282   7.9250        S  1.325745e+02   \n",
       "3      0            113803  53.1000        S  6.305117e-16   \n",
       "4      0            373450   8.0500        S  6.305117e-16   \n",
       "\n",
       "   Gender_Survival_index  index_regarding_class_and_Embarked  \n",
       "0                    0.2                                0.20  \n",
       "1                    0.8                                0.68  \n",
       "2                    0.8                                0.20  \n",
       "3                    0.8                                0.56  \n",
       "4                    0.2                                0.20  "
      ]
     },
     "execution_count": 96,
     "metadata": {},
     "output_type": "execute_result"
    }
   ],
   "source": [
    "train_data.head()"
   ]
  },
  {
   "cell_type": "code",
   "execution_count": 97,
   "id": "52c2057a-d084-4120-97cb-03dbf5a86561",
   "metadata": {},
   "outputs": [
    {
     "data": {
      "text/plain": [
       "array([0, 1, 2, 5, 3, 4, 6], dtype=int64)"
      ]
     },
     "execution_count": 97,
     "metadata": {},
     "output_type": "execute_result"
    }
   ],
   "source": [
    "train_data['Parch'].unique()"
   ]
  },
  {
   "cell_type": "markdown",
   "id": "d4724e06-3447-4f06-9558-843e66875e68",
   "metadata": {},
   "source": [
    "so the number of parents or childs in titanic for each personne are 0 or 1 or 2 or 3 or 4 or 5 or 6"
   ]
  },
  {
   "cell_type": "code",
   "execution_count": 98,
   "id": "1cd5b55e-6aa4-4dd9-8fe0-c05687f9eab9",
   "metadata": {},
   "outputs": [
    {
     "data": {
      "image/png": "[encoded data removed]",
      "text/plain": [
       "<Figure size 1000x600 with 1 Axes>"
      ]
     },
     "metadata": {},
     "output_type": "display_data"
    }
   ],
   "source": [
    "# Prepare the data\n",
    "parch_counts = train_data.groupby(['Parch', 'Survived']).size().unstack(fill_value=0)\n",
    "total_counts = parch_counts.sum(axis=1)\n",
    "percentages = parch_counts.divide(total_counts, axis=0) * 100\n",
    "\n",
    "# Plotting\n",
    "fig, ax = plt.subplots(figsize=(10, 6))\n",
    "\n",
    "# Locations of the left bar-edges\n",
    "bar_locs = np.arange(len(parch_counts))\n",
    "\n",
    "# Width of the bars\n",
    "bar_width = 0.35\n",
    "\n",
    "# Plotting both 'Survived' and 'Did not survive' bars\n",
    "bars1 = ax.bar(bar_locs - bar_width/2, parch_counts[0], bar_width, label='Did Not Survive')\n",
    "bars2 = ax.bar(bar_locs + bar_width/2, parch_counts[1], bar_width, label='Survived')\n",
    "\n",
    "# Annotating bars with percentages\n",
    "for idx, (index, row) in enumerate(percentages.iterrows()):\n",
    "    ax.annotate(f'{row[0]:.1f}%', \n",
    "                (bar_locs[idx] - bar_width/2, parch_counts.iloc[idx, 0]),\n",
    "                ha='center', va='bottom')\n",
    "    ax.annotate(f'{row[1]:.1f}%', \n",
    "                (bar_locs[idx] + bar_width/2, parch_counts.iloc[idx, 1]),\n",
    "                ha='center', va='bottom')\n",
    "\n",
    "# Adding some text for labels, title, and custom x-axis tick labels, etc.\n",
    "ax.set_xlabel('Number of Parents/Children')\n",
    "ax.set_ylabel('Count')\n",
    "ax.set_title('Survival based on number of Parents/Children aboard')\n",
    "ax.set_xticks(bar_locs)\n",
    "ax.set_xticklabels(parch_counts.index)\n",
    "\n",
    "ax.legend()\n",
    "\n",
    "plt.tight_layout()\n",
    "plt.show()"
   ]
  },
  {
   "cell_type": "markdown",
   "id": "fc0f19c7-f9a7-4b35-a0c6-15c1cd9863a8",
   "metadata": {},
   "source": [
    "from this diagram we can see that passenger that doesn't have parent or childerns have 33.8% to survive and for person have 1 parent or child have 53.2% to survive for person have 2 he have 47.8% to survive and all the persons that have three they survive and for >3 they all not survive"
   ]
  },
  {
   "cell_type": "code",
   "execution_count": 99,
   "id": "d31a7181-0c6e-464f-b52d-f77bd2161f85",
   "metadata": {},
   "outputs": [],
   "source": [
    "def calculate_survival_index_based_on_parch(parch):\n",
    "    if parch == 0:\n",
    "        return 0.338\n",
    "    elif parch == 1:\n",
    "        return 0.532\n",
    "    elif parch == 2:\n",
    "        return 0.478\n",
    "    elif parch == 3:\n",
    "        return 1.0\n",
    "    else:  # More than 3 parents/children\n",
    "        return 0.0\n",
    "\n",
    "# Apply the function to each row in the DataFrame to create the new feature\n",
    "train_data['survival_index_based_on_parch'] = train_data['Parch'].apply(calculate_survival_index_based_on_parch)"
   ]
  },
  {
   "cell_type": "code",
   "execution_count": 100,
   "id": "fa07cf54-0612-4918-95b2-d218d8146907",
   "metadata": {},
   "outputs": [
    {
     "data": {
      "text/html": [
       "<div>\n",
       "<style scoped>\n",
       "    .dataframe tbody tr th:only-of-type {\n",
       "        vertical-align: middle;\n",
       "    }\n",
       "\n",
       "    .dataframe tbody tr th {\n",
       "        vertical-align: top;\n",
       "    }\n",
       "\n",
       "    .dataframe thead th {\n",
       "        text-align: right;\n",
       "    }\n",
       "</style>\n",
       "<table border=\"1\" class=\"dataframe\">\n",
       "  <thead>\n",
       "    <tr style=\"text-align: right;\">\n",
       "      <th></th>\n",
       "      <th>PassengerId</th>\n",
       "      <th>Survived</th>\n",
       "      <th>Pclass</th>\n",
       "      <th>Name</th>\n",
       "      <th>Sex</th>\n",
       "      <th>Age</th>\n",
       "      <th>SibSp</th>\n",
       "      <th>Parch</th>\n",
       "      <th>Ticket</th>\n",
       "      <th>Fare</th>\n",
       "      <th>Embarked</th>\n",
       "      <th>index_Age</th>\n",
       "      <th>Gender_Survival_index</th>\n",
       "      <th>index_regarding_class_and_Embarked</th>\n",
       "      <th>survival_index_based_on_parch</th>\n",
       "    </tr>\n",
       "  </thead>\n",
       "  <tbody>\n",
       "    <tr>\n",
       "      <th>0</th>\n",
       "      <td>1</td>\n",
       "      <td>0</td>\n",
       "      <td>3</td>\n",
       "      <td>Braund, Mr. Owen Harris</td>\n",
       "      <td>male</td>\n",
       "      <td>22.0</td>\n",
       "      <td>1</td>\n",
       "      <td>0</td>\n",
       "      <td>A/5 21171</td>\n",
       "      <td>7.2500</td>\n",
       "      <td>S</td>\n",
       "      <td>7.938810e+05</td>\n",
       "      <td>0.2</td>\n",
       "      <td>0.20</td>\n",
       "      <td>0.338</td>\n",
       "    </tr>\n",
       "    <tr>\n",
       "      <th>1</th>\n",
       "      <td>2</td>\n",
       "      <td>1</td>\n",
       "      <td>1</td>\n",
       "      <td>Cumings, Mrs. John Bradley (Florence Briggs Th...</td>\n",
       "      <td>female</td>\n",
       "      <td>38.0</td>\n",
       "      <td>1</td>\n",
       "      <td>0</td>\n",
       "      <td>PC 17599</td>\n",
       "      <td>71.2833</td>\n",
       "      <td>C</td>\n",
       "      <td>3.139133e-17</td>\n",
       "      <td>0.8</td>\n",
       "      <td>0.68</td>\n",
       "      <td>0.338</td>\n",
       "    </tr>\n",
       "    <tr>\n",
       "      <th>2</th>\n",
       "      <td>3</td>\n",
       "      <td>1</td>\n",
       "      <td>3</td>\n",
       "      <td>Heikkinen, Miss. Laina</td>\n",
       "      <td>female</td>\n",
       "      <td>26.0</td>\n",
       "      <td>0</td>\n",
       "      <td>0</td>\n",
       "      <td>STON/O2. 3101282</td>\n",
       "      <td>7.9250</td>\n",
       "      <td>S</td>\n",
       "      <td>1.325745e+02</td>\n",
       "      <td>0.8</td>\n",
       "      <td>0.20</td>\n",
       "      <td>0.338</td>\n",
       "    </tr>\n",
       "    <tr>\n",
       "      <th>3</th>\n",
       "      <td>4</td>\n",
       "      <td>1</td>\n",
       "      <td>1</td>\n",
       "      <td>Futrelle, Mrs. Jacques Heath (Lily May Peel)</td>\n",
       "      <td>female</td>\n",
       "      <td>35.0</td>\n",
       "      <td>1</td>\n",
       "      <td>0</td>\n",
       "      <td>113803</td>\n",
       "      <td>53.1000</td>\n",
       "      <td>S</td>\n",
       "      <td>6.305117e-16</td>\n",
       "      <td>0.8</td>\n",
       "      <td>0.56</td>\n",
       "      <td>0.338</td>\n",
       "    </tr>\n",
       "    <tr>\n",
       "      <th>4</th>\n",
       "      <td>5</td>\n",
       "      <td>0</td>\n",
       "      <td>3</td>\n",
       "      <td>Allen, Mr. William Henry</td>\n",
       "      <td>male</td>\n",
       "      <td>35.0</td>\n",
       "      <td>0</td>\n",
       "      <td>0</td>\n",
       "      <td>373450</td>\n",
       "      <td>8.0500</td>\n",
       "      <td>S</td>\n",
       "      <td>6.305117e-16</td>\n",
       "      <td>0.2</td>\n",
       "      <td>0.20</td>\n",
       "      <td>0.338</td>\n",
       "    </tr>\n",
       "  </tbody>\n",
       "</table>\n",
       "</div>"
      ],
      "text/plain": [
       "   PassengerId  Survived  Pclass  \\\n",
       "0            1         0       3   \n",
       "1            2         1       1   \n",
       "2            3         1       3   \n",
       "3            4         1       1   \n",
       "4            5         0       3   \n",
       "\n",
       "                                                Name     Sex   Age  SibSp  \\\n",
       "0                            Braund, Mr. Owen Harris    male  22.0      1   \n",
       "1  Cumings, Mrs. John Bradley (Florence Briggs Th...  female  38.0      1   \n",
       "2                             Heikkinen, Miss. Laina  female  26.0      0   \n",
       "3       Futrelle, Mrs. Jacques Heath (Lily May Peel)  female  35.0      1   \n",
       "4                           Allen, Mr. William Henry    male  35.0      0   \n",
       "\n",
       "   Parch            Ticket     Fare Embarked     index_Age  \\\n",
       "0      0         A/5 21171   7.2500        S  7.938810e+05   \n",
       "1      0          PC 17599  71.2833        C  3.139133e-17   \n",
       "2      0  STON/O2. 3101282   7.9250        S  1.325745e+02   \n",
       "3      0            113803  53.1000        S  6.305117e-16   \n",
       "4      0            373450   8.0500        S  6.305117e-16   \n",
       "\n",
       "   Gender_Survival_index  index_regarding_class_and_Embarked  \\\n",
       "0                    0.2                                0.20   \n",
       "1                    0.8                                0.68   \n",
       "2                    0.8                                0.20   \n",
       "3                    0.8                                0.56   \n",
       "4                    0.2                                0.20   \n",
       "\n",
       "   survival_index_based_on_parch  \n",
       "0                          0.338  \n",
       "1                          0.338  \n",
       "2                          0.338  \n",
       "3                          0.338  \n",
       "4                          0.338  "
      ]
     },
     "execution_count": 100,
     "metadata": {},
     "output_type": "execute_result"
    }
   ],
   "source": [
    "train_data.head()"
   ]
  },
  {
   "cell_type": "code",
   "execution_count": 101,
   "id": "7e4ce652-65e9-4f23-9ba0-7199ca4b5e57",
   "metadata": {},
   "outputs": [
    {
     "data": {
      "text/plain": [
       "array([1, 0, 3, 4, 2, 5, 8], dtype=int64)"
      ]
     },
     "execution_count": 101,
     "metadata": {},
     "output_type": "execute_result"
    }
   ],
   "source": [
    "train_data['SibSp'].unique()"
   ]
  },
  {
   "cell_type": "markdown",
   "id": "12b3ab4c-6b0b-464e-a674-476e5e9b7032",
   "metadata": {},
   "source": [
    "and from here the number of brothers or husbands or wife in titanic for each personne are 0 or 1 or 2 or 3 or 4 or 5 or 8"
   ]
  },
  {
   "cell_type": "markdown",
   "id": "2f583441-8f54-4457-9cc1-70abf14efe55",
   "metadata": {},
   "source": [
    "let's try to see who survive from types and no ?  count"
   ]
  },
  {
   "cell_type": "code",
   "execution_count": 102,
   "id": "a57654c2-3c5a-4941-9601-e368174a60d3",
   "metadata": {},
   "outputs": [
    {
     "data": {
      "image/png": "[encoded data removed]",
      "text/plain": [
       "<Figure size 1000x600 with 1 Axes>"
      ]
     },
     "metadata": {},
     "output_type": "display_data"
    }
   ],
   "source": [
    "\n",
    "# Prepare the data\n",
    "sibsp_counts = train_data.groupby(['SibSp', 'Survived']).size().unstack(fill_value=0)\n",
    "total_counts = sibsp_counts.sum(axis=1)\n",
    "percentages = sibsp_counts.divide(total_counts, axis=0) * 100\n",
    "\n",
    "# Plotting\n",
    "fig, ax = plt.subplots(figsize=(10, 6))\n",
    "\n",
    "# Locations of the left bar-edges\n",
    "bar_locs = np.arange(len(sibsp_counts))\n",
    "\n",
    "# Width of the bars\n",
    "bar_width = 0.35\n",
    "\n",
    "# Plotting both 'Survived' and 'Did not survive' bars\n",
    "bars1 = ax.bar(bar_locs - bar_width/2, sibsp_counts[0], bar_width, label='Did Not Survive')\n",
    "bars2 = ax.bar(bar_locs + bar_width/2, sibsp_counts[1], bar_width, label='Survived')\n",
    "\n",
    "# Annotating bars with percentages\n",
    "for idx, (index, row) in enumerate(percentages.iterrows()):\n",
    "    ax.annotate(f'{row[0]:.1f}%', \n",
    "                (bar_locs[idx] - bar_width/2, sibsp_counts.iloc[idx, 0]),\n",
    "                ha='center', va='bottom')\n",
    "    ax.annotate(f'{row[1]:.1f}%', \n",
    "                (bar_locs[idx] + bar_width/2, sibsp_counts.iloc[idx, 1]),\n",
    "                ha='center', va='bottom')\n",
    "\n",
    "# Adding some text for labels, title, and custom x-axis tick labels, etc.\n",
    "ax.set_xlabel('Number of Siblings/Spouses')\n",
    "ax.set_ylabel('Count')\n",
    "ax.set_title('Survival based on number of Siblings/Spouses aboard')\n",
    "ax.set_xticks(bar_locs)\n",
    "ax.set_xticklabels(sibsp_counts.index)\n",
    "\n",
    "ax.legend()\n",
    "\n",
    "plt.tight_layout()\n",
    "plt.show()"
   ]
  },
  {
   "cell_type": "markdown",
   "id": "2c0203db-57ed-49f0-a196-3c495c844fe2",
   "metadata": {},
   "source": [
    "here we can see personens doesn't have brothers or husbands or wife survive by 34%  and who have 1 survive by 0.5 and who have 2 survive by 0.47 and for 3 survive by 30% and for 4 they survive by 18% and for 5 and 8 they doesn't survive"
   ]
  },
  {
   "cell_type": "code",
   "execution_count": 103,
   "id": "c2ccf8c6-c4de-43af-a093-bec7382869cb",
   "metadata": {},
   "outputs": [],
   "source": [
    "def calculate_survival_rate_based_on_sibsp(sibsp):\n",
    "    if sibsp == 0:\n",
    "        return 0.34\n",
    "    elif sibsp == 1:\n",
    "        return 0.5\n",
    "    elif sibsp == 2:\n",
    "        return 0.47\n",
    "    elif sibsp == 3:\n",
    "        return 0.3\n",
    "    elif sibsp == 4:\n",
    "        return 0.18\n",
    "    elif sibsp in [5, 8]:\n",
    "        return 0.0\n",
    "    else:\n",
    "        return 0  # Default survival rate if sibsp is not in the specified categories\n",
    "\n",
    "# Apply the function to each row in the DataFrame to create the new feature\n",
    "train_data['survival_index_based_on_sibsp'] = train_data['SibSp'].apply(calculate_survival_rate_based_on_sibsp)"
   ]
  },
  {
   "cell_type": "code",
   "execution_count": 104,
   "id": "7387fffc-71f3-4bd7-9277-8c6317b54de4",
   "metadata": {},
   "outputs": [
    {
     "data": {
      "text/plain": [
       "<bound method NDFrame.head of      PassengerId  Survived  Pclass  \\\n",
       "0              1         0       3   \n",
       "1              2         1       1   \n",
       "2              3         1       3   \n",
       "3              4         1       1   \n",
       "4              5         0       3   \n",
       "..           ...       ...     ...   \n",
       "886          887         0       2   \n",
       "887          888         1       1   \n",
       "888          889         0       3   \n",
       "889          890         1       1   \n",
       "890          891         0       3   \n",
       "\n",
       "                                                  Name     Sex        Age  \\\n",
       "0                              Braund, Mr. Owen Harris    male  22.000000   \n",
       "1    Cumings, Mrs. John Bradley (Florence Briggs Th...  female  38.000000   \n",
       "2                               Heikkinen, Miss. Laina  female  26.000000   \n",
       "3         Futrelle, Mrs. Jacques Heath (Lily May Peel)  female  35.000000   \n",
       "4                             Allen, Mr. William Henry    male  35.000000   \n",
       "..                                                 ...     ...        ...   \n",
       "886                              Montvila, Rev. Juozas    male  27.000000   \n",
       "887                       Graham, Miss. Margaret Edith  female  19.000000   \n",
       "888           Johnston, Miss. Catherine Helen \"Carrie\"  female  29.699118   \n",
       "889                              Behr, Mr. Karl Howell    male  26.000000   \n",
       "890                                Dooley, Mr. Patrick    male  32.000000   \n",
       "\n",
       "     SibSp  Parch            Ticket     Fare Embarked     index_Age  \\\n",
       "0        1      0         A/5 21171   7.2500        S  7.938810e+05   \n",
       "1        1      0          PC 17599  71.2833        C  3.139133e-17   \n",
       "2        0      0  STON/O2. 3101282   7.9250        S  1.325745e+02   \n",
       "3        1      0            113803  53.1000        S  6.305117e-16   \n",
       "4        0      0            373450   8.0500        S  6.305117e-16   \n",
       "..     ...    ...               ...      ...      ...           ...   \n",
       "886      0      0            211536  13.0000        S  7.938810e+05   \n",
       "887      0      0            112053  30.0000        S  8.281908e+01   \n",
       "888      1      2        W./C. 6607  23.4500        S  7.938810e+05   \n",
       "889      0      0            111369  30.0000        C  1.325745e+02   \n",
       "890      0      0            370376   7.7500        Q  1.266417e-14   \n",
       "\n",
       "     Gender_Survival_index  index_regarding_class_and_Embarked  \\\n",
       "0                      0.2                                0.20   \n",
       "1                      0.8                                0.68   \n",
       "2                      0.8                                0.20   \n",
       "3                      0.8                                0.56   \n",
       "4                      0.2                                0.20   \n",
       "..                     ...                                 ...   \n",
       "886                    0.2                                0.47   \n",
       "887                    0.8                                0.56   \n",
       "888                    0.8                                0.20   \n",
       "889                    0.2                                0.68   \n",
       "890                    0.2                                0.34   \n",
       "\n",
       "     survival_index_based_on_parch  survival_index_based_on_sibsp  \n",
       "0                            0.338                           0.50  \n",
       "1                            0.338                           0.50  \n",
       "2                            0.338                           0.34  \n",
       "3                            0.338                           0.50  \n",
       "4                            0.338                           0.34  \n",
       "..                             ...                            ...  \n",
       "886                          0.338                           0.34  \n",
       "887                          0.338                           0.34  \n",
       "888                          0.478                           0.50  \n",
       "889                          0.338                           0.34  \n",
       "890                          0.338                           0.34  \n",
       "\n",
       "[891 rows x 16 columns]>"
      ]
     },
     "execution_count": 104,
     "metadata": {},
     "output_type": "execute_result"
    }
   ],
   "source": [
    "train_data.head"
   ]
  },
  {
   "cell_type": "markdown",
   "id": "57e6ea5b-dc2c-4560-a781-c7a576dab1f6",
   "metadata": {},
   "source": [
    "it seems that survival_rate_based_on_sibsp and survival_index_based_on_parch have close values now for that let's create only one feature which is the avergae between this two features to reduce the dimension of inputs "
   ]
  },
  {
   "cell_type": "code",
   "execution_count": 105,
   "id": "0eca3c5e-5f4b-45db-9a51-578d994eecf3",
   "metadata": {},
   "outputs": [
    {
     "data": {
      "text/plain": [
       "<bound method NDFrame.head of      PassengerId  Survived  Pclass  \\\n",
       "0              1         0       3   \n",
       "1              2         1       1   \n",
       "2              3         1       3   \n",
       "3              4         1       1   \n",
       "4              5         0       3   \n",
       "..           ...       ...     ...   \n",
       "886          887         0       2   \n",
       "887          888         1       1   \n",
       "888          889         0       3   \n",
       "889          890         1       1   \n",
       "890          891         0       3   \n",
       "\n",
       "                                                  Name     Sex        Age  \\\n",
       "0                              Braund, Mr. Owen Harris    male  22.000000   \n",
       "1    Cumings, Mrs. John Bradley (Florence Briggs Th...  female  38.000000   \n",
       "2                               Heikkinen, Miss. Laina  female  26.000000   \n",
       "3         Futrelle, Mrs. Jacques Heath (Lily May Peel)  female  35.000000   \n",
       "4                             Allen, Mr. William Henry    male  35.000000   \n",
       "..                                                 ...     ...        ...   \n",
       "886                              Montvila, Rev. Juozas    male  27.000000   \n",
       "887                       Graham, Miss. Margaret Edith  female  19.000000   \n",
       "888           Johnston, Miss. Catherine Helen \"Carrie\"  female  29.699118   \n",
       "889                              Behr, Mr. Karl Howell    male  26.000000   \n",
       "890                                Dooley, Mr. Patrick    male  32.000000   \n",
       "\n",
       "     SibSp  Parch            Ticket     Fare Embarked     index_Age  \\\n",
       "0        1      0         A/5 21171   7.2500        S  7.938810e+05   \n",
       "1        1      0          PC 17599  71.2833        C  3.139133e-17   \n",
       "2        0      0  STON/O2. 3101282   7.9250        S  1.325745e+02   \n",
       "3        1      0            113803  53.1000        S  6.305117e-16   \n",
       "4        0      0            373450   8.0500        S  6.305117e-16   \n",
       "..     ...    ...               ...      ...      ...           ...   \n",
       "886      0      0            211536  13.0000        S  7.938810e+05   \n",
       "887      0      0            112053  30.0000        S  8.281908e+01   \n",
       "888      1      2        W./C. 6607  23.4500        S  7.938810e+05   \n",
       "889      0      0            111369  30.0000        C  1.325745e+02   \n",
       "890      0      0            370376   7.7500        Q  1.266417e-14   \n",
       "\n",
       "     Gender_Survival_index  index_regarding_class_and_Embarked  \\\n",
       "0                      0.2                                0.20   \n",
       "1                      0.8                                0.68   \n",
       "2                      0.8                                0.20   \n",
       "3                      0.8                                0.56   \n",
       "4                      0.2                                0.20   \n",
       "..                     ...                                 ...   \n",
       "886                    0.2                                0.47   \n",
       "887                    0.8                                0.56   \n",
       "888                    0.8                                0.20   \n",
       "889                    0.2                                0.68   \n",
       "890                    0.2                                0.34   \n",
       "\n",
       "     survival_index_based_on_parch  survival_index_based_on_sibsp  \n",
       "0                            0.338                           0.50  \n",
       "1                            0.338                           0.50  \n",
       "2                            0.338                           0.34  \n",
       "3                            0.338                           0.50  \n",
       "4                            0.338                           0.34  \n",
       "..                             ...                            ...  \n",
       "886                          0.338                           0.34  \n",
       "887                          0.338                           0.34  \n",
       "888                          0.478                           0.50  \n",
       "889                          0.338                           0.34  \n",
       "890                          0.338                           0.34  \n",
       "\n",
       "[891 rows x 16 columns]>"
      ]
     },
     "execution_count": 105,
     "metadata": {},
     "output_type": "execute_result"
    }
   ],
   "source": [
    "train_data.head"
   ]
  },
  {
   "cell_type": "markdown",
   "id": "52287b89-ea0f-4f66-bd89-bf471bbe283b",
   "metadata": {},
   "source": [
    "now we've build our features let's extract them"
   ]
  },
  {
   "cell_type": "code",
   "execution_count": 106,
   "id": "24021a81-ba7c-4350-be3a-4fa65e0d3da8",
   "metadata": {},
   "outputs": [],
   "source": [
    "train_data = train_data[['survival_index_based_on_sibsp','survival_index_based_on_parch', 'index_regarding_class_and_Embarked','index_Age','Gender_Survival_index','Survived']]"
   ]
  },
  {
   "cell_type": "code",
   "execution_count": 107,
   "id": "963c1ec0-964a-4fd8-aebf-23763a06e00c",
   "metadata": {},
   "outputs": [
    {
     "data": {
      "text/plain": [
       "<bound method NDFrame.head of      survival_index_based_on_sibsp  survival_index_based_on_parch  \\\n",
       "0                             0.50                          0.338   \n",
       "1                             0.50                          0.338   \n",
       "2                             0.34                          0.338   \n",
       "3                             0.50                          0.338   \n",
       "4                             0.34                          0.338   \n",
       "..                             ...                            ...   \n",
       "886                           0.34                          0.338   \n",
       "887                           0.34                          0.338   \n",
       "888                           0.50                          0.478   \n",
       "889                           0.34                          0.338   \n",
       "890                           0.34                          0.338   \n",
       "\n",
       "     index_regarding_class_and_Embarked     index_Age  Gender_Survival_index  \\\n",
       "0                                  0.20  7.938810e+05                    0.2   \n",
       "1                                  0.68  3.139133e-17                    0.8   \n",
       "2                                  0.20  1.325745e+02                    0.8   \n",
       "3                                  0.56  6.305117e-16                    0.8   \n",
       "4                                  0.20  6.305117e-16                    0.2   \n",
       "..                                  ...           ...                    ...   \n",
       "886                                0.47  7.938810e+05                    0.2   \n",
       "887                                0.56  8.281908e+01                    0.8   \n",
       "888                                0.20  7.938810e+05                    0.8   \n",
       "889                                0.68  1.325745e+02                    0.2   \n",
       "890                                0.34  1.266417e-14                    0.2   \n",
       "\n",
       "     Survived  \n",
       "0           0  \n",
       "1           1  \n",
       "2           1  \n",
       "3           1  \n",
       "4           0  \n",
       "..        ...  \n",
       "886         0  \n",
       "887         1  \n",
       "888         0  \n",
       "889         1  \n",
       "890         0  \n",
       "\n",
       "[891 rows x 6 columns]>"
      ]
     },
     "execution_count": 107,
     "metadata": {},
     "output_type": "execute_result"
    }
   ],
   "source": [
    "train_data.head"
   ]
  },
  {
   "cell_type": "markdown",
   "id": "4c036f81-f041-4a64-98b5-5e260efc3d95",
   "metadata": {},
   "source": [
    "# now we've  prepare the features let's try to split the train data and test data then give it to a logistic model and try to test over many paramtres to get best the parametres then train the data with this parametres then evaluate our model "
   ]
  },
  {
   "cell_type": "code",
   "execution_count": 108,
   "id": "a3783040-a0b8-490b-90f3-ba70b1bdafa4",
   "metadata": {},
   "outputs": [
    {
     "name": "stdout",
     "output_type": "stream",
     "text": [
      "Best Parameters: {'C': 100, 'penalty': 'l2', 'solver': 'lbfgs'}\n",
      "Model Accuracy: 0.84\n"
     ]
    }
   ],
   "source": [
    "X = train_data[['survival_index_based_on_sibsp','survival_index_based_on_parch','index_Age', 'index_regarding_class_and_Embarked','Gender_Survival_index']]\n",
    "y = train_data['Survived']\n",
    "\n",
    "\n",
    "\n",
    "X_train, X_test, y_train, y_test = train_test_split(X, y, test_size=0.2, random_state=42)\n",
    "\n",
    "classifier = LogisticRegression(max_iter=3000)\n",
    "{'C': 100, 'penalty': 'l2', 'solver': 'lbfgs'}\n",
    "parameters = [\n",
    "    {'C': [100], \n",
    "     'penalty': ['l2'],  # 'l2' is supported by the default 'lbfgs' solver\n",
    "     'solver': ['lbfgs']},\n",
    "    {'C': [0.01, 0.1, 1, 10, 100, 1000], \n",
    "     'penalty': ['l1'],  # 'l1' is supported by 'liblinear' solver\n",
    "     'solver': ['liblinear']},\n",
    "    {'C': [0.01, 0.1, 1, 10, 100, 1000], \n",
    "     'penalty': ['elasticnet'],  # 'elasticnet' requires 'saga' solver and 'l1_ratio'\n",
    "     'solver': ['saga'], \n",
    "     'l1_ratio': [0.5]}  # Example l1_ratio, can be tuned as well\n",
    "]\n",
    "\n",
    "grid_search = GridSearchCV(classifier, parameters, scoring='accuracy', cv=5)\n",
    "\n",
    "grid_search.fit(X_train, y_train)\n",
    "\n",
    "# Test performance\n",
    "best_estimator = grid_search.best_estimator_\n",
    "\n",
    "y_prediction = best_estimator.predict(X_test)\n",
    "\n",
    "score = accuracy_score(y_prediction, y_test)\n",
    "\n",
    "print(f\"Best Parameters: {grid_search.best_params_}\")\n",
    "print(f\"Model Accuracy: {score:.2f}\")"
   ]
  },
  {
   "cell_type": "code",
   "execution_count": 109,
   "id": "09f3ec22-0419-421d-a27e-6bcc4ba9c74f",
   "metadata": {},
   "outputs": [
    {
     "data": {
      "text/plain": [
       "0.8379888268156425"
      ]
     },
     "execution_count": 109,
     "metadata": {},
     "output_type": "execute_result"
    }
   ],
   "source": [
    "score"
   ]
  },
  {
   "cell_type": "markdown",
   "id": "6b9b6f04-24bd-4220-be19-d1153f2e7c88",
   "metadata": {},
   "source": [
    "# the Accuracy of This model is 84%"
   ]
  },
  {
   "cell_type": "code",
   "execution_count": null,
   "id": "4696f2dd-49df-48cc-953e-1f85467c2c47",
   "metadata": {},
   "outputs": [],
   "source": []
  }
 ],
 "metadata": {
  "kernelspec": {
   "display_name": "Python 3 (ipykernel)",
   "language": "python",
   "name": "python3"
  },
  "language_info": {
   "codemirror_mode": {
    "name": "ipython",
    "version": 3
   },
   "file_extension": ".py",
   "mimetype": "text/x-python",
   "name": "python",
   "nbconvert_exporter": "python",
   "pygments_lexer": "ipython3",
   "version": "3.12.4"
  }
 },
 "nbformat": 4,
 "nbformat_minor": 5
}
